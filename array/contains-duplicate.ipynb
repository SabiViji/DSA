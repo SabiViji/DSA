{
 "cells": [
  {
   "cell_type": "markdown",
   "id": "afcb11b1",
   "metadata": {},
   "source": [
    "https://leetcode.com/problems/contains-duplicate/"
   ]
  },
  {
   "cell_type": "markdown",
   "id": "095a705a",
   "metadata": {},
   "source": [
    "Q) Given an integer array nums, return true if any value appears at least twice in the array, and return false if every element is distinct."
   ]
  },
  {
   "cell_type": "markdown",
   "id": "e64a6f06",
   "metadata": {},
   "source": [
    "#### Method 1"
   ]
  },
  {
   "cell_type": "markdown",
   "id": "a223c4f5",
   "metadata": {},
   "source": [
    "Compare each number with every other number. This is a valid solution but as array grows compute time exponentially grows\n",
    "\n",
    "- Time: O(n^2)\n",
    "- Space: O(1)"
   ]
  },
  {
   "cell_type": "markdown",
   "id": "5ccfd5f5",
   "metadata": {},
   "source": [
    "#### Mathod 2"
   ]
  },
  {
   "cell_type": "markdown",
   "id": "09133942",
   "metadata": {},
   "source": [
    "Sort the array first and then compare the adjacent elements.\n",
    "\n",
    "- Time: O(n log(n))\n",
    "- Space: O(1)"
   ]
  },
  {
   "cell_type": "code",
   "execution_count": 7,
   "id": "0bc05805",
   "metadata": {},
   "outputs": [],
   "source": [
    "\n",
    "def containsDuplicate(nums) -> bool:\n",
    "    nums = sorted(nums)\n",
    "    for i in range(len(nums)-1):\n",
    "        if (nums[i] == nums[i+1]):\n",
    "                return True\n",
    "    return False"
   ]
  },
  {
   "cell_type": "code",
   "execution_count": 8,
   "id": "274d15c3",
   "metadata": {},
   "outputs": [
    {
     "data": {
      "text/plain": [
       "True"
      ]
     },
     "execution_count": 8,
     "metadata": {},
     "output_type": "execute_result"
    }
   ],
   "source": [
    "containsDuplicate([1,2,3,1])"
   ]
  },
  {
   "cell_type": "markdown",
   "id": "2d57fe8d",
   "metadata": {},
   "source": [
    "#### Method 3"
   ]
  },
  {
   "cell_type": "markdown",
   "id": "e731938d",
   "metadata": {},
   "source": [
    "Search via a hash set.\n",
    "\n",
    "- Time: O(n)\n",
    "- Space: O(n)"
   ]
  },
  {
   "cell_type": "code",
   "execution_count": 4,
   "id": "4148cdc7",
   "metadata": {},
   "outputs": [],
   "source": [
    "def containsDuplicate(nums) -> bool:\n",
    "    hashset = set()\n",
    "    for i in nums:\n",
    "        if i in hashset:\n",
    "            return True\n",
    "        hashset.add(i)\n",
    "    return False"
   ]
  },
  {
   "cell_type": "code",
   "execution_count": 5,
   "id": "288ff550",
   "metadata": {},
   "outputs": [
    {
     "data": {
      "text/plain": [
       "True"
      ]
     },
     "execution_count": 5,
     "metadata": {},
     "output_type": "execute_result"
    }
   ],
   "source": [
    "containsDuplicate([1,2,3,1])"
   ]
  },
  {
   "cell_type": "code",
   "execution_count": null,
   "id": "af9402aa",
   "metadata": {},
   "outputs": [],
   "source": []
  }
 ],
 "metadata": {
  "kernelspec": {
   "display_name": "Python [conda env:ml] *",
   "language": "python",
   "name": "conda-env-ml-py"
  },
  "language_info": {
   "codemirror_mode": {
    "name": "ipython",
    "version": 3
   },
   "file_extension": ".py",
   "mimetype": "text/x-python",
   "name": "python",
   "nbconvert_exporter": "python",
   "pygments_lexer": "ipython3",
   "version": "3.9.7"
  }
 },
 "nbformat": 4,
 "nbformat_minor": 5
}
